{
 "cells": [
  {
   "cell_type": "code",
   "execution_count": null,
   "id": "bb6c35bd-75a9-4195-b588-96af5ee6e1a7",
   "metadata": {},
   "outputs": [],
   "source": [
    "import numpy as np\n",
    "import matplotlib.pyplot as plt\n",
    "from astropy.table import Table\n",
    "import pandas as pd"
   ]
  },
  {
   "cell_type": "code",
   "execution_count": null,
   "id": "8ed7b0f7-7ba6-4da6-9128-0580df586054",
   "metadata": {},
   "outputs": [],
   "source": [
    "data  = Table.read(\"../data/zall-pix-fuji-with-Z2.fits\")"
   ]
  },
  {
   "cell_type": "code",
   "execution_count": null,
   "id": "1f3f4e12-22ed-4e40-b646-eba6db16c088",
   "metadata": {},
   "outputs": [],
   "source": [
    "for i, item in enumerate(data):\n",
    "    print(item['TARGETID'], item['TARGET_RA'], item['TARGET_DEC'])"
   ]
  },
  {
   "cell_type": "code",
   "execution_count": null,
   "id": "b684c858-5a11-4e26-8708-c7a88cdcb255",
   "metadata": {},
   "outputs": [],
   "source": [
    "marks = pd.read_table('../data/decals_viewer_marks.txt', delimiter=\"\\t\")"
   ]
  },
  {
   "cell_type": "code",
   "execution_count": null,
   "id": "35b07505-ec58-4489-aead-c55174f33c8e",
   "metadata": {},
   "outputs": [],
   "source": [
    "for index, row in marks.iterrows(): \n",
    "    if row['PAIR']==True:\n",
    "        print(row['TARGETID'], row['RA'], row['DEC'])"
   ]
  }
 ],
 "metadata": {
  "kernelspec": {
   "display_name": "Python 3 (ipykernel)",
   "language": "python",
   "name": "python3"
  },
  "language_info": {
   "codemirror_mode": {
    "name": "ipython",
    "version": 3
   },
   "file_extension": ".py",
   "mimetype": "text/x-python",
   "name": "python",
   "nbconvert_exporter": "python",
   "pygments_lexer": "ipython3",
   "version": "3.8.13"
  }
 },
 "nbformat": 4,
 "nbformat_minor": 5
}
